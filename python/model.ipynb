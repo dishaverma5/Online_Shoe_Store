{
 "cells": [
  {
   "cell_type": "code",
   "execution_count": 76,
   "metadata": {},
   "outputs": [
    {
     "data": {
      "text/html": [
       "<div>\n",
       "<style scoped>\n",
       "    .dataframe tbody tr th:only-of-type {\n",
       "        vertical-align: middle;\n",
       "    }\n",
       "\n",
       "    .dataframe tbody tr th {\n",
       "        vertical-align: top;\n",
       "    }\n",
       "\n",
       "    .dataframe thead th {\n",
       "        text-align: right;\n",
       "    }\n",
       "</style>\n",
       "<table border=\"1\" class=\"dataframe\">\n",
       "  <thead>\n",
       "    <tr style=\"text-align: right;\">\n",
       "      <th></th>\n",
       "      <th>_id</th>\n",
       "      <th>shoeDetails</th>\n",
       "      <th>additionalFeatures</th>\n",
       "      <th>addedTimestamp</th>\n",
       "    </tr>\n",
       "  </thead>\n",
       "  <tbody>\n",
       "    <tr>\n",
       "      <th>0</th>\n",
       "      <td>66901a5cf0933ae3d962947b</td>\n",
       "      <td>{'size': '13', 'color': 'Black', 'brand': 'Adi...</td>\n",
       "      <td>{'hasLaces': True, 'isAthletic': True}</td>\n",
       "      <td>2024-07-11T20:53:12.519940</td>\n",
       "    </tr>\n",
       "    <tr>\n",
       "      <th>1</th>\n",
       "      <td>66901a5cf0933ae3d962947c</td>\n",
       "      <td>{'size': '12', 'color': 'Brown', 'brand': 'H&amp;M...</td>\n",
       "      <td>{'hasLaces': False, 'isAthletic': False}</td>\n",
       "      <td>2024-07-11T20:53:12.519940</td>\n",
       "    </tr>\n",
       "    <tr>\n",
       "      <th>2</th>\n",
       "      <td>66901a5cf0933ae3d962947d</td>\n",
       "      <td>{'size': '10', 'color': 'Blue', 'brand': 'Vans...</td>\n",
       "      <td>{'hasLaces': True, 'isAthletic': False}</td>\n",
       "      <td>2024-07-11T20:53:12.519940</td>\n",
       "    </tr>\n",
       "  </tbody>\n",
       "</table>\n",
       "</div>"
      ],
      "text/plain": [
       "                        _id  \\\n",
       "0  66901a5cf0933ae3d962947b   \n",
       "1  66901a5cf0933ae3d962947c   \n",
       "2  66901a5cf0933ae3d962947d   \n",
       "\n",
       "                                         shoeDetails  \\\n",
       "0  {'size': '13', 'color': 'Black', 'brand': 'Adi...   \n",
       "1  {'size': '12', 'color': 'Brown', 'brand': 'H&M...   \n",
       "2  {'size': '10', 'color': 'Blue', 'brand': 'Vans...   \n",
       "\n",
       "                         additionalFeatures              addedTimestamp  \n",
       "0    {'hasLaces': True, 'isAthletic': True}  2024-07-11T20:53:12.519940  \n",
       "1  {'hasLaces': False, 'isAthletic': False}  2024-07-11T20:53:12.519940  \n",
       "2   {'hasLaces': True, 'isAthletic': False}  2024-07-11T20:53:12.519940  "
      ]
     },
     "execution_count": 76,
     "metadata": {},
     "output_type": "execute_result"
    }
   ],
   "source": [
    "import pandas as pd\n",
    "import numpy as np\n",
    "from pymongo import MongoClient\n",
    "\n",
    "# Connect to MongoDB\n",
    "client = MongoClient(\"mongodb://localhost:27017/\")\n",
    "db = client[\"stepup\"]\n",
    "collection = db[\"shoes\"]\n",
    "\n",
    "# Fetch data from MongoDB\n",
    "cursor = collection.find({})\n",
    "\n",
    "# Create a DataFrame from MongoDB cursor\n",
    "df = pd.DataFrame(list(cursor))\n",
    "\n",
    "df.head()\n"
   ]
  },
  {
   "cell_type": "code",
   "execution_count": 77,
   "metadata": {},
   "outputs": [
    {
     "name": "stdout",
     "output_type": "stream",
     "text": [
      "     shoe_id                                        shoeDetails  \\\n",
      "0          0  {'brand': 'Vans', 'shoe_type': 'formal', 'colo...   \n",
      "1          1  {'brand': 'Converse', 'shoe_type': 'athletic',...   \n",
      "2          2  {'brand': 'Vans', 'shoe_type': 'athletic', 'co...   \n",
      "3          3  {'brand': 'UGG', 'shoe_type': 'formal', 'color...   \n",
      "4          4  {'brand': 'Adidas', 'shoe_type': 'sandals', 'c...   \n",
      "..       ...                                                ...   \n",
      "995      995  {'brand': 'Converse', 'shoe_type': 'athletic',...   \n",
      "996      996  {'brand': 'Birkenstock', 'shoe_type': 'formal'...   \n",
      "997      997  {'brand': 'Vans', 'shoe_type': 'boots', 'color...   \n",
      "998      998  {'brand': 'Adidas', 'shoe_type': 'formal', 'co...   \n",
      "999      999  {'brand': 'Crocs', 'shoe_type': 'formal', 'col...   \n",
      "\n",
      "                                    additionalFeatures  \n",
      "0    {'isPopular': True, 'inStock': True, 'onSale':...  \n",
      "1    {'isPopular': False, 'inStock': False, 'onSale...  \n",
      "2    {'isPopular': True, 'inStock': True, 'onSale':...  \n",
      "3    {'isPopular': True, 'inStock': True, 'onSale':...  \n",
      "4    {'isPopular': True, 'inStock': False, 'onSale'...  \n",
      "..                                                 ...  \n",
      "995  {'isPopular': True, 'inStock': True, 'onSale':...  \n",
      "996  {'isPopular': True, 'inStock': False, 'onSale'...  \n",
      "997  {'isPopular': False, 'inStock': False, 'onSale...  \n",
      "998  {'isPopular': True, 'inStock': False, 'onSale'...  \n",
      "999  {'isPopular': True, 'inStock': True, 'onSale':...  \n",
      "\n",
      "[1000 rows x 3 columns]\n"
     ]
    },
    {
     "name": "stderr",
     "output_type": "stream",
     "text": [
      "<>:6: SyntaxWarning: invalid escape sequence '\\C'\n",
      "<>:6: SyntaxWarning: invalid escape sequence '\\C'\n",
      "C:\\Users\\wasadmin\\AppData\\Local\\Temp\\ipykernel_11412\\4150060251.py:6: SyntaxWarning: invalid escape sequence '\\C'\n",
      "  df = pd.read_json('C:\\Capstone_OnlineStore\\python\\shoes.json')\n"
     ]
    }
   ],
   "source": [
    "import pandas as pd   \n",
    "import numpy as np \n",
    "\n",
    "\n",
    "#load dataset\n",
    "df = pd.read_json('C:\\Capstone_OnlineStore\\python\\shoes.json')\n",
    "\n",
    "# Check the columns of your DataFrame\n",
    "print(df)"
   ]
  },
  {
   "cell_type": "code",
   "execution_count": 84,
   "metadata": {},
   "outputs": [
    {
     "name": "stdout",
     "output_type": "stream",
     "text": [
      "NearestNeighbors(n_neighbors=3)\n"
     ]
    }
   ],
   "source": [
    "import pandas as pd\n",
    "from sklearn.neighbors import NearestNeighbors\n",
    "\n",
    "df = pd.read_json(\"shoes.json\")\n",
    "\n",
    "# pick relevant columns of choice\n",
    "df_selected = df[['shoe_id', 'shoeDetails', 'additionalFeatures']].copy()\n",
    "\n",
    "# Extract specific values from nested dictionaries\n",
    "df_selected['brand'] = df_selected['shoeDetails'].apply(lambda x: x['brand'])\n",
    "df_selected['shoe_type'] = df_selected['shoeDetails'].apply(lambda x: x['shoe_type'])\n",
    "df_selected['color'] = df_selected['shoeDetails'].apply(lambda x: x['color'])\n",
    "df_selected['size'] = df_selected['shoeDetails'].apply(lambda x: x['size'])\n",
    "df_selected['price'] = df_selected['shoeDetails'].apply(lambda x: x['price'])\n",
    "df_selected['isPopular'] = df_selected['additionalFeatures'].apply(lambda x: x['isPopular'])\n",
    "\n",
    "# dropping redundant columns\n",
    "df_selected.drop(['shoeDetails', 'additionalFeatures'], axis=1, inplace=True)\n",
    "\n",
    "# categorical vars application of one-hot encoding \n",
    "df_encoded = pd.get_dummies(df_selected, columns=['brand', 'shoe_type', 'color', 'isPopular'])\n",
    "\n",
    "knn = NearestNeighbors(n_neighbors=3).fit(df_encoded)\n",
    "\n",
    "print(knn)"
   ]
  },
  {
   "cell_type": "code",
   "execution_count": 85,
   "metadata": {},
   "outputs": [
    {
     "name": "stdout",
     "output_type": "stream",
     "text": [
      "Selected Product:\n",
      "shoe_id             1\n",
      "brand        Converse\n",
      "shoe_type    athletic\n",
      "color           white\n",
      "size                7\n",
      "price           199.3\n",
      "isPopular       False\n",
      "Name: 1, dtype: object\n",
      "\n",
      "Recommended Products:\n",
      "   shoe_id     brand shoe_type  color  size   price  isPopular\n",
      "1        1  Converse  athletic  white     7  199.30      False\n",
      "5        5     Crocs    casual  beige     9  194.85       True\n",
      "2        2      Vans  athletic  beige     9  190.17       True\n"
     ]
    }
   ],
   "source": [
    "selected_product_features = df_encoded[df_encoded['shoe_id'] == 1]\n",
    "selected_product_index = selected_product_features.index[0]\n",
    "distances, indices = knn.kneighbors(selected_product_features)\n",
    "recommended_product_indices = indices.flatten()\n",
    "recommended_products = df_selected.iloc[recommended_product_indices]\n",
    "\n",
    "print(\"Selected Product:\")\n",
    "print(df_selected.iloc[selected_product_index])\n",
    "print(\"\\nRecommended Products:\")\n",
    "print(recommended_products)"
   ]
  },
  {
   "cell_type": "code",
   "execution_count": null,
   "metadata": {},
   "outputs": [],
   "source": []
  }
 ],
 "metadata": {
  "kernelspec": {
   "display_name": "Python 3",
   "language": "python",
   "name": "python3"
  },
  "language_info": {
   "codemirror_mode": {
    "name": "ipython",
    "version": 3
   },
   "file_extension": ".py",
   "mimetype": "text/x-python",
   "name": "python",
   "nbconvert_exporter": "python",
   "pygments_lexer": "ipython3",
   "version": "3.12.3"
  }
 },
 "nbformat": 4,
 "nbformat_minor": 2
}
