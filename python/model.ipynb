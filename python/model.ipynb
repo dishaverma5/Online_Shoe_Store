{
 "cells": [
  {
   "cell_type": "code",
   "execution_count": 6,
   "metadata": {},
   "outputs": [],
   "source": [
    " \n",
    "import pandas as pd\n",
    "import numpy as np\n",
    "from pymongo import MongoClient\n",
    "\n",
    "\n",
    "# Connect to MongoDB\n",
    "client = MongoClient(\"mongodb://localhost:27017/\")\n",
    "db = client[\"stepup\"]\n",
    "collection = db[\"shoes\"]\n",
    "\n",
    "# Fetch data from MongoDB\n",
    "cursor = collection.find({}, {\"_id\": 0, \"name\": 1, \"category\": 1, \"price\": 1, \"popularity\": 1, \"durability\": 1})\n",
    "\n",
    "# Create a DataFrame from MongoDB cursor\n",
    "df = pd.DataFrame(list(cursor))"
   ]
  },
  {
   "cell_type": "code",
   "execution_count": 16,
   "metadata": {},
   "outputs": [
    {
     "name": "stderr",
     "output_type": "stream",
     "text": [
      "<>:9: SyntaxWarning: invalid escape sequence '\\C'\n",
      "<>:11: SyntaxWarning: invalid escape sequence '\\C'\n",
      "<>:9: SyntaxWarning: invalid escape sequence '\\C'\n",
      "<>:11: SyntaxWarning: invalid escape sequence '\\C'\n",
      "C:\\Users\\wasadmin\\AppData\\Local\\Temp\\ipykernel_11412\\2108910884.py:9: SyntaxWarning: invalid escape sequence '\\C'\n",
      "  df = pd.read_csv('C:\\Capstone_OnlineStore\\python\\shoe_sales.csv')\n",
      "C:\\Users\\wasadmin\\AppData\\Local\\Temp\\ipykernel_11412\\2108910884.py:11: SyntaxWarning: invalid escape sequence '\\C'\n",
      "  df = pd.read_json('C:\\Capstone_OnlineStore\\mongodb\\shoes.json')\n"
     ]
    },
    {
     "name": "stdout",
     "output_type": "stream",
     "text": [
      "Index(['addedTimestamp', 'id', 'brand', 'type', 'color', 'size', 'price'], dtype='object')\n"
     ]
    }
   ],
   "source": [
    "from sklearn.neighbors import NearestNeighbors\n",
    "import pandas as pd   \n",
    "import numpy as np \n",
    "\n",
    "from sklearn.preprocessing import OneHotEncoder\n",
    "from sklearn.compose import ColumnTransformer\n",
    "\n",
    "#load dataset\n",
    "df = pd.read_csv('C:\\Capstone_OnlineStore\\python\\shoe_sales.csv')\n",
    "df = pd.read_json('C:\\Capstone_OnlineStore\\mongodb\\shoes.json')\n",
    "\n",
    "# Check the columns of your DataFrame\n",
    "print(df.columns)"
   ]
  },
  {
   "cell_type": "code",
   "execution_count": 18,
   "metadata": {},
   "outputs": [],
   "source": [
    "import pandas as pd\n",
    "from sklearn.neighbors import NearestNeighbors\n",
    "# Sample data\n",
    "data = {\n",
    "    'product_id': [1, 2, 3, 4, 5],\n",
    "    'affordability': [5, 3, 4, 2, 1],\n",
    "    'durability': [3, 4, 2, 5, 1],\n",
    "    'popularity': [4, 5, 3, 2, 1]\n",
    "}\n",
    "\n",
    "df = pd.DataFrame(data)"
   ]
  },
  {
   "cell_type": "code",
   "execution_count": 24,
   "metadata": {},
   "outputs": [
    {
     "name": "stdout",
     "output_type": "stream",
     "text": [
      "   affordability  durability  popularity\n",
      "0              5           3           4\n",
      "1              3           4           5\n",
      "2              4           2           3\n",
      "3              2           5           2\n",
      "4              1           1           1\n"
     ]
    }
   ],
   "source": [
    "\n",
    "# Features\n",
    "X = df[['affordability', 'durability', 'popularity']]\n",
    "print(X)"
   ]
  },
  {
   "cell_type": "code",
   "execution_count": 28,
   "metadata": {},
   "outputs": [
    {
     "name": "stderr",
     "output_type": "stream",
     "text": [
      "<>:5: SyntaxWarning: invalid escape sequence '\\C'\n",
      "<>:5: SyntaxWarning: invalid escape sequence '\\C'\n",
      "C:\\Users\\wasadmin\\AppData\\Local\\Temp\\ipykernel_11412\\4010674713.py:5: SyntaxWarning: invalid escape sequence '\\C'\n",
      "  df = pd.read_json(\"C:\\Capstone_OnlineStore\\mongodb\\shoes.json\")\n"
     ]
    }
   ],
   "source": [
    "import pandas as pd\n",
    "from sklearn.neighbors import NearestNeighbors\n",
    "\n",
    "# Assuming df is your original DataFrame read from JSON\n",
    "df = pd.read_json(\"C:\\Capstone_OnlineStore\\mongodb\\shoes.json\")\n",
    "\n",
    "# Select relevant columns\n",
    "df_selected = df[['brand', 'type', 'color', 'size', 'price']].copy()\n",
    "\n",
    "\n",
    "# Apply one-hot encoding to categorical variables\n",
    "df_encoded = pd.get_dummies(df_selected, columns=['brand', 'type', 'color', 'size', 'price'])\n",
    "\n",
    "knn = NearestNeighbors(n_neighbors=3).fit(df_encoded)"
   ]
  },
  {
   "cell_type": "code",
   "execution_count": null,
   "metadata": {},
   "outputs": [],
   "source": [
    "selected_product_features = df_encoded[df_encoded['productID'] == 1]\n",
    "selected_product_index = selected_product_features.index[0]\n",
    "distances, indices = knn.kneighbors(selected_product_features)\n",
    "recommended_product_indices = indices.flatten()\n",
    "recommended_products = df_selected.iloc[recommended_product_indices]\n",
    "\n",
    "print(\"Selected Product:\")\n",
    "print(df_selected.iloc[selected_product_index])\n",
    "print(\"\\nRecommended Products:\")\n",
    "print(recommended_products)"
   ]
  }
 ],
 "metadata": {
  "kernelspec": {
   "display_name": "Python 3",
   "language": "python",
   "name": "python3"
  },
  "language_info": {
   "codemirror_mode": {
    "name": "ipython",
    "version": 3
   },
   "file_extension": ".py",
   "mimetype": "text/x-python",
   "name": "python",
   "nbconvert_exporter": "python",
   "pygments_lexer": "ipython3",
   "version": "3.12.3"
  }
 },
 "nbformat": 4,
 "nbformat_minor": 2
}
